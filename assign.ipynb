{
  "nbformat": 4,
  "nbformat_minor": 0,
  "metadata": {
    "colab": {
      "provenance": [],
      "collapsed_sections": [],
      "authorship_tag": "ABX9TyP2W16ZDk7iKV03ijSB5c1h",
      "include_colab_link": true
    },
    "kernelspec": {
      "name": "python3",
      "display_name": "Python 3"
    },
    "language_info": {
      "name": "python"
    }
  },
  "cells": [
    {
      "cell_type": "markdown",
      "metadata": {
        "id": "view-in-github",
        "colab_type": "text"
      },
      "source": [
        "<a href=\"https://colab.research.google.com/github/ysargar500/Assign_LetsGradeup/blob/main/assign.ipynb\" target=\"_parent\"><img src=\"https://colab.research.google.com/assets/colab-badge.svg\" alt=\"Open In Colab\"/></a>"
      ]
    },
    {
      "cell_type": "code",
      "execution_count": null,
      "metadata": {
        "colab": {
          "base_uri": "https://localhost:8080/"
        },
        "id": "jyxSYRQk05zp",
        "outputId": "88f583ab-115a-4bac-aa8d-43d661f2e5f7"
      },
      "outputs": [
        {
          "output_type": "stream",
          "name": "stdout",
          "text": [
            "Looking in indexes: https://pypi.org/simple, https://us-python.pkg.dev/colab-wheels/public/simple/\n",
            "Requirement already satisfied: numpy in /usr/local/lib/python3.7/dist-packages (1.21.6)\n"
          ]
        }
      ],
      "source": [
        "!pip install numpy\n"
      ]
    },
    {
      "cell_type": "code",
      "source": [
        "#Itarative for 1D array"
      ],
      "metadata": {
        "id": "7ZBDQaKL19eZ"
      },
      "execution_count": null,
      "outputs": []
    },
    {
      "cell_type": "code",
      "source": [
        "import numpy as np"
      ],
      "metadata": {
        "id": "IvqUHL7w1R7z"
      },
      "execution_count": null,
      "outputs": []
    },
    {
      "cell_type": "code",
      "source": [
        "arr_1=np.array([5,8,9])"
      ],
      "metadata": {
        "id": "DQZSTdNT1at6"
      },
      "execution_count": null,
      "outputs": []
    },
    {
      "cell_type": "code",
      "source": [
        "for X in arr_1:\n",
        "  print(X)"
      ],
      "metadata": {
        "colab": {
          "base_uri": "https://localhost:8080/"
        },
        "id": "48o6DQ1f1zfd",
        "outputId": "4ce78c7e-7604-4344-ccc3-108867a58903"
      },
      "execution_count": null,
      "outputs": [
        {
          "output_type": "stream",
          "name": "stdout",
          "text": [
            "5\n",
            "8\n",
            "9\n"
          ]
        }
      ]
    },
    {
      "cell_type": "code",
      "source": [
        "#Itrative for 2D array"
      ],
      "metadata": {
        "id": "--7LgtCX2Odb"
      },
      "execution_count": null,
      "outputs": []
    },
    {
      "cell_type": "code",
      "source": [
        "arr_2=np.array([[5,8,9],[12,16,18]])"
      ],
      "metadata": {
        "id": "Ae5SQQVg2TXJ"
      },
      "execution_count": null,
      "outputs": []
    },
    {
      "cell_type": "code",
      "source": [
        "for X in arr_2:\n",
        "  print(X)"
      ],
      "metadata": {
        "colab": {
          "base_uri": "https://localhost:8080/"
        },
        "id": "kzgACLkv2gHK",
        "outputId": "0f92a95e-a813-4bec-8c47-736ee5ecc792"
      },
      "execution_count": null,
      "outputs": [
        {
          "output_type": "stream",
          "name": "stdout",
          "text": [
            "[5 8 9]\n",
            "[12 16 18]\n"
          ]
        }
      ]
    },
    {
      "cell_type": "code",
      "source": [
        "#itrative for 3D"
      ],
      "metadata": {
        "id": "ll5ZsXvG3BHn"
      },
      "execution_count": null,
      "outputs": []
    },
    {
      "cell_type": "code",
      "source": [
        "arr_3 = np.array([[[5,8,9],[12,16,18]], [[7, 8, 9], [10, 11, 12]]])"
      ],
      "metadata": {
        "id": "k6L3TX693fdM"
      },
      "execution_count": null,
      "outputs": []
    },
    {
      "cell_type": "code",
      "source": [
        "for X in arr_3:\n",
        "  print(X)"
      ],
      "metadata": {
        "colab": {
          "base_uri": "https://localhost:8080/"
        },
        "id": "-BPcaHUu3rRc",
        "outputId": "854d406b-6581-4197-aa20-db98a4ed91a2"
      },
      "execution_count": null,
      "outputs": [
        {
          "output_type": "stream",
          "name": "stdout",
          "text": [
            "[[ 5  8  9]\n",
            " [12 16 18]]\n",
            "[[ 7  8  9]\n",
            " [10 11 12]]\n"
          ]
        }
      ]
    },
    {
      "cell_type": "code",
      "source": [],
      "metadata": {
        "id": "Uno0gJDR3yB1"
      },
      "execution_count": null,
      "outputs": []
    }
  ]
}